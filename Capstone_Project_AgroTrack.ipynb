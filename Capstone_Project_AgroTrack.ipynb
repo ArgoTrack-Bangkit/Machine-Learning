{
  "nbformat": 4,
  "nbformat_minor": 0,
  "metadata": {
    "colab": {
      "provenance": []
    },
    "kernelspec": {
      "name": "python3",
      "display_name": "Python 3"
    },
    "language_info": {
      "name": "python"
    }
  },
  "cells": [
    {
      "cell_type": "markdown",
      "source": [
        "#1. Import Packages"
      ],
      "metadata": {
        "id": "qb-eJ7vgLuGp"
      }
    },
    {
      "cell_type": "code",
      "execution_count": null,
      "metadata": {
        "colab": {
          "base_uri": "https://localhost:8080/"
        },
        "id": "66u6qVcGJf83",
        "outputId": "e0126d19-d1b9-411d-d477-78893f6dd217"
      },
      "outputs": [
        {
          "output_type": "stream",
          "name": "stdout",
          "text": [
            "Mounted at /content/drive\n"
          ]
        }
      ],
      "source": [
        "from google.colab import drive\n",
        "drive.mount('/content/drive')"
      ]
    },
    {
      "cell_type": "code",
      "source": [
        "import tensorflow as tf\n",
        "from tensorflow.keras import layers, models\n",
        "from tensorflow.keras.preprocessing.image import ImageDataGenerator\n",
        "from tensorflow.keras.callbacks import EarlyStopping\n",
        "from tensorflow.keras.models import Sequential, model_from_json\n",
        "from google.colab import files\n",
        "from tensorflow.keras.models import load_model\n",
        "from tensorflow.keras.utils import load_img, img_to_array\n",
        "import matplotlib.pyplot as plt\n",
        "from sklearn.metrics import confusion_matrix\n",
        "import seaborn as sns\n",
        "from tabulate import tabulate\n",
        "import os\n",
        "import numpy as np\n",
        "import pandas as pd\n",
        "import random"
      ],
      "metadata": {
        "id": "hoV2mytjL6om"
      },
      "execution_count": null,
      "outputs": []
    },
    {
      "cell_type": "markdown",
      "source": [
        "#2. Load Dataset"
      ],
      "metadata": {
        "id": "FXd7uCWPMXGJ"
      }
    },
    {
      "cell_type": "code",
      "source": [
        "train_dir = '/content/drive/MyDrive/tomato_dataset/train'\n",
        "val_dir = '/content/drive/MyDrive/tomato_dataset/validation'"
      ],
      "metadata": {
        "id": "PKV1wU8RMiXF"
      },
      "execution_count": null,
      "outputs": []
    },
    {
      "cell_type": "markdown",
      "source": [
        "#3. Augmentasi and Preprocessing Data"
      ],
      "metadata": {
        "id": "RIEbMzjuPO5A"
      }
    },
    {
      "cell_type": "code",
      "source": [
        "train_datagen = ImageDataGenerator(\n",
        "    rescale=1.0/255.0,\n",
        "    rotation_range=40,\n",
        "    width_shift_range=0.2,\n",
        "    height_shift_range=0.2,\n",
        "    shear_range=0.2,\n",
        "    zoom_range=0.2,\n",
        "    horizontal_flip=True,\n",
        "    fill_mode='nearest'\n",
        ")\n",
        "\n",
        "\n",
        "val_datagen = ImageDataGenerator(rescale = 1.0/255.0)\n",
        "\n",
        "train_generator = train_datagen.flow_from_directory(\n",
        "    train_dir,\n",
        "    target_size = (150, 150),\n",
        "    batch_size = 32,\n",
        "    class_mode = 'categorical',\n",
        ")\n",
        "\n",
        "val_generator = val_datagen.flow_from_directory(\n",
        "    val_dir,\n",
        "    target_size=(150, 150),\n",
        "    batch_size=32,\n",
        "    class_mode='categorical'\n",
        ")\n"
      ],
      "metadata": {
        "colab": {
          "base_uri": "https://localhost:8080/"
        },
        "id": "gT8gVZ6r8mNp",
        "outputId": "d27fd864-e7b2-42ab-bab9-1ab9bbaa9795"
      },
      "execution_count": null,
      "outputs": [
        {
          "output_type": "stream",
          "name": "stdout",
          "text": [
            "Found 1383 images belonging to 5 classes.\n",
            "Found 421 images belonging to 5 classes.\n"
          ]
        }
      ]
    },
    {
      "cell_type": "markdown",
      "source": [
        "#4. Model Building"
      ],
      "metadata": {
        "id": "CLuhPgWDWNiv"
      }
    },
    {
      "cell_type": "code",
      "source": [
        "def create_model():\n",
        "  model = tf.keras.models.Sequential([\n",
        "      tf.keras.layers.Conv2D(64, (3,3), activation='relu', input_shape=(150, 150, 3)),\n",
        "      tf.keras.layers.MaxPooling2D(2, 2),\n",
        "      # The second convolution\n",
        "      tf.keras.layers.Conv2D(128, (3,3), activation='relu'),\n",
        "      tf.keras.layers.MaxPooling2D(2,2),\n",
        "      # The third convolution\n",
        "      tf.keras.layers.Conv2D(256, (3,3), activation='relu'),\n",
        "      tf.keras.layers.MaxPooling2D(2,2),\n",
        "      # The fourth convolution\n",
        "      tf.keras.layers.Conv2D(512, (3,3), activation='relu'),\n",
        "      tf.keras.layers.MaxPooling2D(2,2),\n",
        "      # Flatten the results to feed into a DNN\n",
        "      tf.keras.layers.Flatten(),\n",
        "      tf.keras.layers.Dropout(0.5),\n",
        "      tf.keras.layers.BatchNormalization(),\n",
        "      # 512 neuron hidden layer\n",
        "      tf.keras.layers.Dense(512, activation='relu'),\n",
        "      tf.keras.layers.Dense(5, activation='softmax')\n",
        "  ])\n",
        "\n",
        "  model.compile(loss = 'categorical_crossentropy',\n",
        "              optimizer = tf.keras.optimizers.Adam(learning_rate=0.0001),\n",
        "              metrics = ['accuracy'])\n",
        "\n",
        "  return model"
      ],
      "metadata": {
        "id": "L2sH8iOT_qbV"
      },
      "execution_count": null,
      "outputs": []
    },
    {
      "cell_type": "code",
      "source": [
        "model = create_model()\n",
        "\n",
        "model.summary()"
      ],
      "metadata": {
        "colab": {
          "base_uri": "https://localhost:8080/"
        },
        "id": "-OqVQixTElj7",
        "outputId": "6fa39b15-75ce-40ec-b330-6365440c49f6"
      },
      "execution_count": null,
      "outputs": [
        {
          "output_type": "stream",
          "name": "stdout",
          "text": [
            "Model: \"sequential\"\n",
            "_________________________________________________________________\n",
            " Layer (type)                Output Shape              Param #   \n",
            "=================================================================\n",
            " conv2d (Conv2D)             (None, 148, 148, 64)      1792      \n",
            "                                                                 \n",
            " max_pooling2d (MaxPooling2  (None, 74, 74, 64)        0         \n",
            " D)                                                              \n",
            "                                                                 \n",
            " conv2d_1 (Conv2D)           (None, 72, 72, 128)       73856     \n",
            "                                                                 \n",
            " max_pooling2d_1 (MaxPoolin  (None, 36, 36, 128)       0         \n",
            " g2D)                                                            \n",
            "                                                                 \n",
            " conv2d_2 (Conv2D)           (None, 34, 34, 256)       295168    \n",
            "                                                                 \n",
            " max_pooling2d_2 (MaxPoolin  (None, 17, 17, 256)       0         \n",
            " g2D)                                                            \n",
            "                                                                 \n",
            " conv2d_3 (Conv2D)           (None, 15, 15, 512)       1180160   \n",
            "                                                                 \n",
            " max_pooling2d_3 (MaxPoolin  (None, 7, 7, 512)         0         \n",
            " g2D)                                                            \n",
            "                                                                 \n",
            " flatten (Flatten)           (None, 25088)             0         \n",
            "                                                                 \n",
            " dropout (Dropout)           (None, 25088)             0         \n",
            "                                                                 \n",
            " batch_normalization (Batch  (None, 25088)             100352    \n",
            " Normalization)                                                  \n",
            "                                                                 \n",
            " dense (Dense)               (None, 512)               12845568  \n",
            "                                                                 \n",
            " dense_1 (Dense)             (None, 5)                 2565      \n",
            "                                                                 \n",
            "=================================================================\n",
            "Total params: 14499461 (55.31 MB)\n",
            "Trainable params: 14449285 (55.12 MB)\n",
            "Non-trainable params: 50176 (196.00 KB)\n",
            "_________________________________________________________________\n"
          ]
        }
      ]
    },
    {
      "cell_type": "markdown",
      "source": [
        "#5. Model Fiiting"
      ],
      "metadata": {
        "id": "VuAUgTk6YixB"
      }
    },
    {
      "cell_type": "code",
      "source": [
        "early_stopping = EarlyStopping(monitor = 'val_loss', patience = 10, restore_best_weights=True)"
      ],
      "metadata": {
        "id": "fEIo9t8X-vFn"
      },
      "execution_count": null,
      "outputs": []
    },
    {
      "cell_type": "code",
      "source": [
        "history = model.fit(\n",
        "    train_generator,\n",
        "    steps_per_epoch=train_generator.samples // train_generator.batch_size,\n",
        "    validation_data=val_generator,\n",
        "    validation_steps=val_generator.samples // val_generator.batch_size,\n",
        "    epochs=100,\n",
        "    callbacks = [early_stopping]\n",
        ")\n"
      ],
      "metadata": {
        "colab": {
          "base_uri": "https://localhost:8080/"
        },
        "id": "djUI7gS2YubJ",
        "outputId": "6e2acc31-f390-4027-c146-06e7d9f35b18"
      },
      "execution_count": null,
      "outputs": [
        {
          "output_type": "stream",
          "name": "stdout",
          "text": [
            "Epoch 1/100\n",
            "43/43 [==============================] - 671s 16s/step - loss: 1.4073 - accuracy: 0.4249 - val_loss: 1.5492 - val_accuracy: 0.4519\n",
            "Epoch 2/100\n",
            "43/43 [==============================] - 276s 6s/step - loss: 1.3095 - accuracy: 0.4789 - val_loss: 1.5344 - val_accuracy: 0.4014\n",
            "Epoch 3/100\n",
            "43/43 [==============================] - 260s 6s/step - loss: 1.2035 - accuracy: 0.5204 - val_loss: 1.5007 - val_accuracy: 0.5312\n",
            "Epoch 4/100\n",
            "43/43 [==============================] - 275s 6s/step - loss: 1.1502 - accuracy: 0.5529 - val_loss: 1.4570 - val_accuracy: 0.5385\n",
            "Epoch 5/100\n",
            "43/43 [==============================] - 261s 6s/step - loss: 1.1047 - accuracy: 0.5559 - val_loss: 1.4236 - val_accuracy: 0.5697\n",
            "Epoch 6/100\n",
            "43/43 [==============================] - 255s 6s/step - loss: 1.0522 - accuracy: 0.5722 - val_loss: 1.3805 - val_accuracy: 0.5192\n",
            "Epoch 7/100\n",
            "43/43 [==============================] - 272s 6s/step - loss: 1.0055 - accuracy: 0.6018 - val_loss: 1.3150 - val_accuracy: 0.5120\n",
            "Epoch 8/100\n",
            "43/43 [==============================] - 255s 6s/step - loss: 0.9613 - accuracy: 0.6321 - val_loss: 1.2675 - val_accuracy: 0.5577\n",
            "Epoch 9/100\n",
            "43/43 [==============================] - 252s 6s/step - loss: 0.9341 - accuracy: 0.6232 - val_loss: 1.2264 - val_accuracy: 0.5577\n",
            "Epoch 10/100\n",
            "43/43 [==============================] - 251s 6s/step - loss: 0.9306 - accuracy: 0.6373 - val_loss: 1.1452 - val_accuracy: 0.5721\n",
            "Epoch 11/100\n",
            "43/43 [==============================] - 274s 6s/step - loss: 0.9023 - accuracy: 0.6395 - val_loss: 1.1258 - val_accuracy: 0.6130\n",
            "Epoch 12/100\n",
            "43/43 [==============================] - 251s 6s/step - loss: 0.8708 - accuracy: 0.6610 - val_loss: 1.0935 - val_accuracy: 0.5986\n",
            "Epoch 13/100\n",
            "43/43 [==============================] - 252s 6s/step - loss: 0.8143 - accuracy: 0.6839 - val_loss: 0.9874 - val_accuracy: 0.6346\n",
            "Epoch 14/100\n",
            "43/43 [==============================] - 253s 6s/step - loss: 0.8467 - accuracy: 0.6758 - val_loss: 0.9667 - val_accuracy: 0.6635\n",
            "Epoch 15/100\n",
            "43/43 [==============================] - 250s 6s/step - loss: 0.8197 - accuracy: 0.6773 - val_loss: 0.9677 - val_accuracy: 0.6154\n",
            "Epoch 16/100\n",
            "43/43 [==============================] - 250s 6s/step - loss: 0.7898 - accuracy: 0.7039 - val_loss: 1.0524 - val_accuracy: 0.5865\n",
            "Epoch 17/100\n",
            "43/43 [==============================] - 253s 6s/step - loss: 0.7822 - accuracy: 0.7150 - val_loss: 0.8988 - val_accuracy: 0.6538\n",
            "Epoch 18/100\n",
            "43/43 [==============================] - 251s 6s/step - loss: 0.7837 - accuracy: 0.6876 - val_loss: 0.8866 - val_accuracy: 0.6514\n",
            "Epoch 19/100\n",
            "43/43 [==============================] - 271s 6s/step - loss: 0.7185 - accuracy: 0.7165 - val_loss: 0.9113 - val_accuracy: 0.6587\n",
            "Epoch 20/100\n",
            "43/43 [==============================] - 252s 6s/step - loss: 0.7423 - accuracy: 0.7150 - val_loss: 1.0908 - val_accuracy: 0.6058\n",
            "Epoch 21/100\n",
            "43/43 [==============================] - 252s 6s/step - loss: 0.7420 - accuracy: 0.7010 - val_loss: 0.8555 - val_accuracy: 0.6514\n",
            "Epoch 22/100\n",
            "43/43 [==============================] - 271s 6s/step - loss: 0.7204 - accuracy: 0.7187 - val_loss: 0.8714 - val_accuracy: 0.6755\n",
            "Epoch 23/100\n",
            "43/43 [==============================] - 252s 6s/step - loss: 0.6700 - accuracy: 0.7454 - val_loss: 0.8378 - val_accuracy: 0.6923\n",
            "Epoch 24/100\n",
            "43/43 [==============================] - 273s 6s/step - loss: 0.6601 - accuracy: 0.7535 - val_loss: 0.8672 - val_accuracy: 0.6635\n",
            "Epoch 25/100\n",
            "43/43 [==============================] - 254s 6s/step - loss: 0.6867 - accuracy: 0.7402 - val_loss: 0.7984 - val_accuracy: 0.6899\n",
            "Epoch 26/100\n",
            "43/43 [==============================] - 253s 6s/step - loss: 0.6373 - accuracy: 0.7513 - val_loss: 0.8715 - val_accuracy: 0.6562\n",
            "Epoch 27/100\n",
            "43/43 [==============================] - 253s 6s/step - loss: 0.5989 - accuracy: 0.7750 - val_loss: 0.8040 - val_accuracy: 0.7067\n",
            "Epoch 28/100\n",
            "43/43 [==============================] - 251s 6s/step - loss: 0.6081 - accuracy: 0.7691 - val_loss: 0.9298 - val_accuracy: 0.6683\n",
            "Epoch 29/100\n",
            "43/43 [==============================] - 273s 6s/step - loss: 0.6044 - accuracy: 0.7779 - val_loss: 0.8251 - val_accuracy: 0.6947\n",
            "Epoch 30/100\n",
            "43/43 [==============================] - 250s 6s/step - loss: 0.5950 - accuracy: 0.7757 - val_loss: 0.8511 - val_accuracy: 0.6923\n",
            "Epoch 31/100\n",
            "43/43 [==============================] - 270s 6s/step - loss: 0.5582 - accuracy: 0.7913 - val_loss: 0.9694 - val_accuracy: 0.6851\n",
            "Epoch 32/100\n",
            "43/43 [==============================] - 270s 6s/step - loss: 0.5497 - accuracy: 0.7905 - val_loss: 0.7501 - val_accuracy: 0.7236\n",
            "Epoch 33/100\n",
            "43/43 [==============================] - 271s 6s/step - loss: 0.5357 - accuracy: 0.7972 - val_loss: 0.8469 - val_accuracy: 0.7019\n",
            "Epoch 34/100\n",
            "43/43 [==============================] - 251s 6s/step - loss: 0.5521 - accuracy: 0.7957 - val_loss: 1.1627 - val_accuracy: 0.6611\n",
            "Epoch 35/100\n",
            "43/43 [==============================] - 271s 6s/step - loss: 0.5061 - accuracy: 0.8150 - val_loss: 0.7667 - val_accuracy: 0.7212\n",
            "Epoch 36/100\n",
            "43/43 [==============================] - 250s 6s/step - loss: 0.5321 - accuracy: 0.8068 - val_loss: 0.8067 - val_accuracy: 0.7115\n",
            "Epoch 37/100\n",
            "43/43 [==============================] - 251s 6s/step - loss: 0.5334 - accuracy: 0.7979 - val_loss: 0.6295 - val_accuracy: 0.7812\n",
            "Epoch 38/100\n",
            "43/43 [==============================] - 271s 6s/step - loss: 0.4825 - accuracy: 0.8105 - val_loss: 0.7494 - val_accuracy: 0.7260\n",
            "Epoch 39/100\n",
            "43/43 [==============================] - 270s 6s/step - loss: 0.4855 - accuracy: 0.8216 - val_loss: 0.7808 - val_accuracy: 0.7139\n",
            "Epoch 40/100\n",
            "43/43 [==============================] - 250s 6s/step - loss: 0.4726 - accuracy: 0.8275 - val_loss: 0.7620 - val_accuracy: 0.7332\n",
            "Epoch 41/100\n",
            "43/43 [==============================] - 252s 6s/step - loss: 0.4637 - accuracy: 0.8327 - val_loss: 0.6662 - val_accuracy: 0.7548\n",
            "Epoch 42/100\n",
            "43/43 [==============================] - 270s 6s/step - loss: 0.4290 - accuracy: 0.8394 - val_loss: 0.6655 - val_accuracy: 0.7620\n",
            "Epoch 43/100\n",
            "43/43 [==============================] - 269s 6s/step - loss: 0.4456 - accuracy: 0.8386 - val_loss: 0.6803 - val_accuracy: 0.7716\n",
            "Epoch 44/100\n",
            "43/43 [==============================] - 271s 6s/step - loss: 0.4009 - accuracy: 0.8520 - val_loss: 0.7453 - val_accuracy: 0.7380\n",
            "Epoch 45/100\n",
            "43/43 [==============================] - 250s 6s/step - loss: 0.4575 - accuracy: 0.8357 - val_loss: 0.7401 - val_accuracy: 0.7163\n",
            "Epoch 46/100\n",
            "43/43 [==============================] - 271s 6s/step - loss: 0.3970 - accuracy: 0.8571 - val_loss: 0.6166 - val_accuracy: 0.7933\n",
            "Epoch 47/100\n",
            "43/43 [==============================] - 250s 6s/step - loss: 0.4059 - accuracy: 0.8520 - val_loss: 0.6551 - val_accuracy: 0.7764\n",
            "Epoch 48/100\n",
            "43/43 [==============================] - 254s 6s/step - loss: 0.3971 - accuracy: 0.8525 - val_loss: 0.6756 - val_accuracy: 0.7812\n",
            "Epoch 49/100\n",
            "43/43 [==============================] - 251s 6s/step - loss: 0.3651 - accuracy: 0.8586 - val_loss: 0.6880 - val_accuracy: 0.7548\n",
            "Epoch 50/100\n",
            "43/43 [==============================] - 250s 6s/step - loss: 0.3982 - accuracy: 0.8460 - val_loss: 0.6988 - val_accuracy: 0.7692\n",
            "Epoch 51/100\n",
            "43/43 [==============================] - 252s 6s/step - loss: 0.3761 - accuracy: 0.8653 - val_loss: 0.7175 - val_accuracy: 0.7620\n",
            "Epoch 52/100\n",
            "43/43 [==============================] - 272s 6s/step - loss: 0.3718 - accuracy: 0.8601 - val_loss: 0.7804 - val_accuracy: 0.7284\n",
            "Epoch 53/100\n",
            "43/43 [==============================] - 271s 6s/step - loss: 0.3643 - accuracy: 0.8586 - val_loss: 0.7592 - val_accuracy: 0.7644\n",
            "Epoch 54/100\n",
            "43/43 [==============================] - 271s 6s/step - loss: 0.3637 - accuracy: 0.8682 - val_loss: 0.6268 - val_accuracy: 0.7740\n",
            "Epoch 55/100\n",
            "43/43 [==============================] - 251s 6s/step - loss: 0.3542 - accuracy: 0.8594 - val_loss: 0.8129 - val_accuracy: 0.7139\n",
            "Epoch 56/100\n",
            "43/43 [==============================] - 271s 6s/step - loss: 0.3489 - accuracy: 0.8771 - val_loss: 0.5827 - val_accuracy: 0.7957\n",
            "Epoch 57/100\n",
            "43/43 [==============================] - 250s 6s/step - loss: 0.2934 - accuracy: 0.9008 - val_loss: 0.6342 - val_accuracy: 0.7812\n",
            "Epoch 58/100\n",
            "43/43 [==============================] - 270s 6s/step - loss: 0.3245 - accuracy: 0.8719 - val_loss: 0.6531 - val_accuracy: 0.7692\n",
            "Epoch 59/100\n",
            "43/43 [==============================] - 250s 6s/step - loss: 0.3614 - accuracy: 0.8756 - val_loss: 1.0647 - val_accuracy: 0.6803\n",
            "Epoch 60/100\n",
            "43/43 [==============================] - 250s 6s/step - loss: 0.2814 - accuracy: 0.8912 - val_loss: 0.6875 - val_accuracy: 0.7981\n",
            "Epoch 61/100\n",
            "43/43 [==============================] - 270s 6s/step - loss: 0.2962 - accuracy: 0.8830 - val_loss: 0.8155 - val_accuracy: 0.7404\n",
            "Epoch 62/100\n",
            "43/43 [==============================] - 248s 6s/step - loss: 0.3253 - accuracy: 0.8779 - val_loss: 0.5738 - val_accuracy: 0.8029\n",
            "Epoch 63/100\n",
            "43/43 [==============================] - 271s 6s/step - loss: 0.3116 - accuracy: 0.8816 - val_loss: 0.6310 - val_accuracy: 0.8197\n",
            "Epoch 64/100\n",
            "43/43 [==============================] - 272s 6s/step - loss: 0.2720 - accuracy: 0.9067 - val_loss: 0.6398 - val_accuracy: 0.8053\n",
            "Epoch 65/100\n",
            "43/43 [==============================] - 250s 6s/step - loss: 0.2955 - accuracy: 0.8882 - val_loss: 0.6368 - val_accuracy: 0.7981\n",
            "Epoch 66/100\n",
            "43/43 [==============================] - 249s 6s/step - loss: 0.3007 - accuracy: 0.8882 - val_loss: 0.6297 - val_accuracy: 0.7981\n",
            "Epoch 67/100\n",
            "43/43 [==============================] - 250s 6s/step - loss: 0.2776 - accuracy: 0.9008 - val_loss: 0.6281 - val_accuracy: 0.8149\n",
            "Epoch 68/100\n",
            "43/43 [==============================] - 271s 6s/step - loss: 0.2679 - accuracy: 0.9038 - val_loss: 0.5820 - val_accuracy: 0.8221\n",
            "Epoch 69/100\n",
            "43/43 [==============================] - 270s 6s/step - loss: 0.2525 - accuracy: 0.9082 - val_loss: 0.5809 - val_accuracy: 0.8197\n",
            "Epoch 70/100\n",
            "43/43 [==============================] - 246s 6s/step - loss: 0.2594 - accuracy: 0.9060 - val_loss: 0.5267 - val_accuracy: 0.8462\n",
            "Epoch 71/100\n",
            "43/43 [==============================] - 246s 6s/step - loss: 0.2933 - accuracy: 0.8971 - val_loss: 0.6598 - val_accuracy: 0.7861\n",
            "Epoch 72/100\n",
            "43/43 [==============================] - 249s 6s/step - loss: 0.2585 - accuracy: 0.9016 - val_loss: 0.7344 - val_accuracy: 0.7933\n",
            "Epoch 73/100\n",
            "43/43 [==============================] - 252s 6s/step - loss: 0.2709 - accuracy: 0.9008 - val_loss: 0.6207 - val_accuracy: 0.8149\n",
            "Epoch 74/100\n",
            "43/43 [==============================] - 268s 6s/step - loss: 0.2437 - accuracy: 0.9127 - val_loss: 0.6071 - val_accuracy: 0.8101\n",
            "Epoch 75/100\n",
            "43/43 [==============================] - 250s 6s/step - loss: 0.2574 - accuracy: 0.9112 - val_loss: 0.6296 - val_accuracy: 0.8125\n",
            "Epoch 76/100\n",
            "43/43 [==============================] - 250s 6s/step - loss: 0.2194 - accuracy: 0.9230 - val_loss: 0.6872 - val_accuracy: 0.7861\n",
            "Epoch 77/100\n",
            "43/43 [==============================] - 272s 6s/step - loss: 0.2597 - accuracy: 0.9016 - val_loss: 0.7809 - val_accuracy: 0.7716\n",
            "Epoch 78/100\n",
            "43/43 [==============================] - 270s 6s/step - loss: 0.2299 - accuracy: 0.9112 - val_loss: 0.5158 - val_accuracy: 0.8486\n",
            "Epoch 79/100\n",
            "43/43 [==============================] - 250s 6s/step - loss: 0.2511 - accuracy: 0.9134 - val_loss: 0.5312 - val_accuracy: 0.8341\n",
            "Epoch 80/100\n",
            "43/43 [==============================] - 248s 6s/step - loss: 0.2024 - accuracy: 0.9289 - val_loss: 0.5384 - val_accuracy: 0.8221\n",
            "Epoch 81/100\n",
            "43/43 [==============================] - 250s 6s/step - loss: 0.2406 - accuracy: 0.9097 - val_loss: 0.5045 - val_accuracy: 0.8317\n",
            "Epoch 82/100\n",
            "43/43 [==============================] - 270s 6s/step - loss: 0.2011 - accuracy: 0.9304 - val_loss: 0.5680 - val_accuracy: 0.8149\n",
            "Epoch 83/100\n",
            "43/43 [==============================] - 249s 6s/step - loss: 0.1867 - accuracy: 0.9260 - val_loss: 0.7789 - val_accuracy: 0.8005\n",
            "Epoch 84/100\n",
            "43/43 [==============================] - 249s 6s/step - loss: 0.1843 - accuracy: 0.9334 - val_loss: 0.5663 - val_accuracy: 0.8173\n",
            "Epoch 85/100\n",
            "43/43 [==============================] - 249s 6s/step - loss: 0.1761 - accuracy: 0.9289 - val_loss: 0.6106 - val_accuracy: 0.8269\n",
            "Epoch 86/100\n",
            "43/43 [==============================] - 251s 6s/step - loss: 0.2215 - accuracy: 0.9127 - val_loss: 0.6016 - val_accuracy: 0.8269\n",
            "Epoch 87/100\n",
            "43/43 [==============================] - 269s 6s/step - loss: 0.2076 - accuracy: 0.9334 - val_loss: 0.6345 - val_accuracy: 0.8077\n",
            "Epoch 88/100\n",
            "43/43 [==============================] - 270s 6s/step - loss: 0.2303 - accuracy: 0.9134 - val_loss: 0.5585 - val_accuracy: 0.8341\n",
            "Epoch 89/100\n",
            "43/43 [==============================] - 250s 6s/step - loss: 0.2086 - accuracy: 0.9223 - val_loss: 0.8751 - val_accuracy: 0.7909\n",
            "Epoch 90/100\n",
            "43/43 [==============================] - 270s 6s/step - loss: 0.1747 - accuracy: 0.9341 - val_loss: 0.9030 - val_accuracy: 0.7861\n",
            "Epoch 91/100\n",
            "43/43 [==============================] - 256s 6s/step - loss: 0.1967 - accuracy: 0.9215 - val_loss: 0.6644 - val_accuracy: 0.8221\n"
          ]
        }
      ]
    },
    {
      "cell_type": "markdown",
      "source": [
        "#6. Evaluasi Model"
      ],
      "metadata": {
        "id": "WaGdhEPgRGtj"
      }
    },
    {
      "cell_type": "code",
      "source": [
        "loss, accuracy = model.evaluate(val_generator)\n",
        "print(f\"Validation Accuracy: {accuracy*100:.2f}%\")"
      ],
      "metadata": {
        "colab": {
          "base_uri": "https://localhost:8080/"
        },
        "id": "TjugVe-9RM6m",
        "outputId": "1ffa0ced-7292-4abb-ec02-a402c6df8c2c"
      },
      "execution_count": null,
      "outputs": [
        {
          "output_type": "stream",
          "name": "stdout",
          "text": [
            "14/14 [==============================] - 20s 1s/step - loss: 0.5009 - accuracy: 0.8337\n",
            "Validation Accuracy: 83.37%\n"
          ]
        }
      ]
    },
    {
      "cell_type": "markdown",
      "source": [
        "#7. Visualization of training results"
      ],
      "metadata": {
        "id": "PoawUDuGRN7S"
      }
    },
    {
      "cell_type": "code",
      "source": [
        "acc = history.history['accuracy']\n",
        "val_acc = history.history['val_accuracy']\n",
        "loss = history.history['loss']\n",
        "val_loss = history.history['val_loss']\n",
        "\n",
        "epochs_range = range(91)\n",
        "\n",
        "plt.figure(figsize=(12, 8))\n",
        "plt.subplot(1, 2, 1)\n",
        "plt.plot(epochs_range, acc, label='Training Accuracy')\n",
        "plt.plot(epochs_range, val_acc, label='Validation Accuracy')\n",
        "plt.legend(loc='lower right')\n",
        "plt.title('Training and Validation Accuracy')\n",
        "\n",
        "plt.subplot(1, 2, 2)\n",
        "plt.plot(epochs_range, loss, label='Training Loss')\n",
        "plt.plot(epochs_range, val_loss, label='Validation Loss')\n",
        "plt.legend(loc='upper right')\n",
        "plt.title('Training and Validation Loss')\n",
        "plt.show()\n"
      ],
      "metadata": {
        "colab": {
          "base_uri": "https://localhost:8080/",
          "height": 612
        },
        "id": "gag1wEt-RVO1",
        "outputId": "0f3a5fd7-766c-4862-e1d3-db1ab6486664"
      },
      "execution_count": null,
      "outputs": [
        {
          "output_type": "display_data",
          "data": {
            "text/plain": [
              "<Figure size 1200x800 with 2 Axes>"
            ],
            "image/png": "[encoded data removed]"
          },
          "metadata": {}
        }
      ]
    },
    {
      "cell_type": "markdown",
      "source": [
        "#8. Save Model"
      ],
      "metadata": {
        "id": "2eNX14vrRdNe"
      }
    },
    {
      "cell_type": "code",
      "source": [
        "# Save the entire model to an HDF5 file\n",
        "model.save('model.h5')\n",
        "print(\"Model disimpan sebagai model.h5\")\n",
        "\n",
        "# Save the model architecture to a JSON file\n",
        "json_config = model.to_json()\n",
        "with open('model_config.json', 'w') as json_file:\n",
        "    json_file.write(json_config)\n",
        "print(\"Arsitektur model disimpan sebagai model_config.json\")\n",
        "\n",
        "# Save model weights to HDF5 file\n",
        "model.save_weights('model_weights.h5')\n",
        "print(\"Bobot model disimpan sebagai model_weights.h5\")\n",
        "\n",
        "# Load the model architecture from the JSON file\n",
        "with open('model_config.json', 'r') as json_file:\n",
        "    json_config = json_file.read()\n",
        "new_model = model_from_json(json_config)\n",
        "print(\"Arsitektur model dimuat dari model_config.json\")\n",
        "\n",
        "# Load model weights from HDF5 file\n",
        "new_model.load_weights('model_weights.h5')\n",
        "print(\"Bobot model dimuat dari model_weights.h5\")\n",
        "\n",
        "# Convert model weights to binary format and save as .bin file\n",
        "weights = model.get_weights()\n",
        "with open('model_weights.bin', 'wb') as bin_file:\n",
        "    for weight in weights:\n",
        "        bin_file.write(weight.tobytes())\n",
        "print(\"Bobot model disimpan sebagai model_weights.bin\")\n",
        "\n",
        "# Loads model weights from  .bin file\n",
        "def load_weights_from_bin(model, bin_path):\n",
        "    weights = model.get_weights()\n",
        "    with open(bin_path, 'rb') as bin_file:\n",
        "        for i in range(len(weights)):\n",
        "            weights[i] = np.frombuffer(bin_file.read(weights[i].nbytes), dtype=weights[i].dtype).reshape(weights[i].shape)\n",
        "    model.set_weights(weights)\n",
        "\n",
        "load_weights_from_bin(new_model, 'model_weights.bin')\n",
        "print(\"Bobot model dimuat dari model_weights.bin\")\n",
        "\n",
        "# Evaluate newly loaded models to ensure compliance\n",
        "# new_model.compile(loss='categorical_crossentropy', optimizer='adam', metrics=['accuracy'])\n",
        "# evaluation = new_model.evaluate(validation_data)\n",
        "# print(f\"Evaluation of model accuracy: {evaluation[1]}\")"
      ],
      "metadata": {
        "colab": {
          "base_uri": "https://localhost:8080/"
        },
        "id": "kyGUAn7PXkMt",
        "outputId": "3c7f0b3c-f45e-43e2-aa0f-08ce482b4ccb"
      },
      "execution_count": null,
      "outputs": [
        {
          "output_type": "stream",
          "name": "stderr",
          "text": [
            "/usr/local/lib/python3.10/dist-packages/keras/src/engine/training.py:3103: UserWarning: You are saving your model as an HDF5 file via `model.save()`. This file format is considered legacy. We recommend using instead the native Keras format, e.g. `model.save('my_model.keras')`.\n",
            "  saving_api.save_model(\n"
          ]
        },
        {
          "output_type": "stream",
          "name": "stdout",
          "text": [
            "Model disimpan sebagai model.h5\n",
            "Arsitektur model disimpan sebagai model_config.json\n",
            "Bobot model disimpan sebagai model_weights.h5\n",
            "Arsitektur model dimuat dari model_config.json\n",
            "Bobot model dimuat dari model_weights.h5\n",
            "Bobot model disimpan sebagai model_weights.bin\n",
            "Bobot model dimuat dari model_weights.bin\n"
          ]
        }
      ]
    },
    {
      "cell_type": "markdown",
      "source": [
        "#9. Load and use the model"
      ],
      "metadata": {
        "id": "SSofGmqxRjb7"
      }
    },
    {
      "cell_type": "code",
      "source": [
        "model = load_model('/content/model.h5')\n",
        "uploaded = files.upload()\n",
        "class_name = ['Blossom-end-rottation', 'Cracking', 'Healthy', 'Spliting', 'Sun-scaled']\n",
        "\n",
        "for fn in uploaded.keys():\n",
        "\n",
        "  # predicting images\n",
        "  path = fn\n",
        "  img = load_img(path, target_size=(150, 150))\n",
        "  x = img_to_array(img)\n",
        "  x = np.expand_dims(x, axis=0)\n",
        "\n",
        "  predictions = model.predict(x)\n",
        "\n",
        "  predicted_class_index = np.argmax(predictions)\n",
        "\n",
        "  predicted_class_name = class_name[predicted_class_index]\n",
        "\n",
        "  print(\"Predicted class for\", fn, \":\", predicted_class_name)"
      ],
      "metadata": {
        "colab": {
          "base_uri": "https://localhost:8080/",
          "height": 145
        },
        "id": "-XV2HpIyVTLY",
        "outputId": "09719f16-5ddf-432f-f10d-77421c1301fe"
      },
      "execution_count": null,
      "outputs": [
        {
          "output_type": "display_data",
          "data": {
            "text/plain": [
              "<IPython.core.display.HTML object>"
            ],
            "text/html": [
              "\n",
              "     <input type=\"file\" id=\"files-752d375f-0618-4fb8-9048-838d48695f81\" name=\"files[]\" multiple disabled\n",
              "        style=\"border:none\" />\n",
              "     <output id=\"result-752d375f-0618-4fb8-9048-838d48695f81\">\n",
              "      Upload widget is only available when the cell has been executed in the\n",
              "      current browser session. Please rerun this cell to enable.\n",
              "      </output>\n",
              "      <script>// Copyright 2017 Google LLC\n",
              "//\n",
              "// Licensed under the Apache License, Version 2.0 (the \"License\");\n",
              "// you may not use this file except in compliance with the License.\n",
              "// You may obtain a copy of the License at\n",
              "//\n",
              "//      http://www.apache.org/licenses/LICENSE-2.0\n",
              "//\n",
              "// Unless required by applicable law or agreed to in writing, software\n",
              "// distributed under the License is distributed on an \"AS IS\" BASIS,\n",
              "// WITHOUT WARRANTIES OR CONDITIONS OF ANY KIND, either express or implied.\n",
              "// See the License for the specific language governing permissions and\n",
              "// limitations under the License.\n",
              "\n",
              "/**\n",
              " * @fileoverview Helpers for google.colab Python module.\n",
              " */\n",
              "(function(scope) {\n",
              "function span(text, styleAttributes = {}) {\n",
              "  const element = document.createElement('span');\n",
              "  element.textContent = text;\n",
              "  for (const key of Object.keys(styleAttributes)) {\n",
              "    element.style[key] = styleAttributes[key];\n",
              "  }\n",
              "  return element;\n",
              "}\n",
              "\n",
              "// Max number of bytes which will be uploaded at a time.\n",
              "const MAX_PAYLOAD_SIZE = 100 * 1024;\n",
              "\n",
              "function _uploadFiles(inputId, outputId) {\n",
              "  const steps = uploadFilesStep(inputId, outputId);\n",
              "  const outputElement = document.getElementById(outputId);\n",
              "  // Cache steps on the outputElement to make it available for the next call\n",
              "  // to uploadFilesContinue from Python.\n",
              "  outputElement.steps = steps;\n",
              "\n",
              "  return _uploadFilesContinue(outputId);\n",
              "}\n",
              "\n",
              "// This is roughly an async generator (not supported in the browser yet),\n",
              "// where there are multiple asynchronous steps and the Python side is going\n",
              "// to poll for completion of each step.\n",
              "// This uses a Promise to block the python side on completion of each step,\n",
              "// then passes the result of the previous step as the input to the next step.\n",
              "function _uploadFilesContinue(outputId) {\n",
              "  const outputElement = document.getElementById(outputId);\n",
              "  const steps = outputElement.steps;\n",
              "\n",
              "  const next = steps.next(outputElement.lastPromiseValue);\n",
              "  return Promise.resolve(next.value.promise).then((value) => {\n",
              "    // Cache the last promise value to make it available to the next\n",
              "    // step of the generator.\n",
              "    outputElement.lastPromiseValue = value;\n",
              "    return next.value.response;\n",
              "  });\n",
              "}\n",
              "\n",
              "/**\n",
              " * Generator function which is called between each async step of the upload\n",
              " * process.\n",
              " * @param {string} inputId Element ID of the input file picker element.\n",
              " * @param {string} outputId Element ID of the output display.\n",
              " * @return {!Iterable<!Object>} Iterable of next steps.\n",
              " */\n",
              "function* uploadFilesStep(inputId, outputId) {\n",
              "  const inputElement = document.getElementById(inputId);\n",
              "  inputElement.disabled = false;\n",
              "\n",
              "  const outputElement = document.getElementById(outputId);\n",
              "  outputElement.innerHTML = '';\n",
              "\n",
              "  const pickedPromise = new Promise((resolve) => {\n",
              "    inputElement.addEventListener('change', (e) => {\n",
              "      resolve(e.target.files);\n",
              "    });\n",
              "  });\n",
              "\n",
              "  const cancel = document.createElement('button');\n",
              "  inputElement.parentElement.appendChild(cancel);\n",
              "  cancel.textContent = 'Cancel upload';\n",
              "  const cancelPromise = new Promise((resolve) => {\n",
              "    cancel.onclick = () => {\n",
              "      resolve(null);\n",
              "    };\n",
              "  });\n",
              "\n",
              "  // Wait for the user to pick the files.\n",
              "  const files = yield {\n",
              "    promise: Promise.race([pickedPromise, cancelPromise]),\n",
              "    response: {\n",
              "      action: 'starting',\n",
              "    }\n",
              "  };\n",
              "\n",
              "  cancel.remove();\n",
              "\n",
              "  // Disable the input element since further picks are not allowed.\n",
              "  inputElement.disabled = true;\n",
              "\n",
              "  if (!files) {\n",
              "    return {\n",
              "      response: {\n",
              "        action: 'complete',\n",
              "      }\n",
              "    };\n",
              "  }\n",
              "\n",
              "  for (const file of files) {\n",
              "    const li = document.createElement('li');\n",
              "    li.append(span(file.name, {fontWeight: 'bold'}));\n",
              "    li.append(span(\n",
              "        `(${file.type || 'n/a'}) - ${file.size} bytes, ` +\n",
              "        `last modified: ${\n",
              "            file.lastModifiedDate ? file.lastModifiedDate.toLocaleDateString() :\n",
              "                                    'n/a'} - `));\n",
              "    const percent = span('0% done');\n",
              "    li.appendChild(percent);\n",
              "\n",
              "    outputElement.appendChild(li);\n",
              "\n",
              "    const fileDataPromise = new Promise((resolve) => {\n",
              "      const reader = new FileReader();\n",
              "      reader.onload = (e) => {\n",
              "        resolve(e.target.result);\n",
              "      };\n",
              "      reader.readAsArrayBuffer(file);\n",
              "    });\n",
              "    // Wait for the data to be ready.\n",
              "    let fileData = yield {\n",
              "      promise: fileDataPromise,\n",
              "      response: {\n",
              "        action: 'continue',\n",
              "      }\n",
              "    };\n",
              "\n",
              "    // Use a chunked sending to avoid message size limits. See b/62115660.\n",
              "    let position = 0;\n",
              "    do {\n",
              "      const length = Math.min(fileData.byteLength - position, MAX_PAYLOAD_SIZE);\n",
              "      const chunk = new Uint8Array(fileData, position, length);\n",
              "      position += length;\n",
              "\n",
              "      const base64 = btoa(String.fromCharCode.apply(null, chunk));\n",
              "      yield {\n",
              "        response: {\n",
              "          action: 'append',\n",
              "          file: file.name,\n",
              "          data: base64,\n",
              "        },\n",
              "      };\n",
              "\n",
              "      let percentDone = fileData.byteLength === 0 ?\n",
              "          100 :\n",
              "          Math.round((position / fileData.byteLength) * 100);\n",
              "      percent.textContent = `${percentDone}% done`;\n",
              "\n",
              "    } while (position < fileData.byteLength);\n",
              "  }\n",
              "\n",
              "  // All done.\n",
              "  yield {\n",
              "    response: {\n",
              "      action: 'complete',\n",
              "    }\n",
              "  };\n",
              "}\n",
              "\n",
              "scope.google = scope.google || {};\n",
              "scope.google.colab = scope.google.colab || {};\n",
              "scope.google.colab._files = {\n",
              "  _uploadFiles,\n",
              "  _uploadFilesContinue,\n",
              "};\n",
              "})(self);\n",
              "</script> "
            ]
          },
          "metadata": {}
        },
        {
          "output_type": "stream",
          "name": "stderr",
          "text": [
            "WARNING:tensorflow:6 out of the last 6 calls to <function Model.make_predict_function.<locals>.predict_function at 0x7b82930d52d0> triggered tf.function retracing. Tracing is expensive and the excessive number of tracings could be due to (1) creating @tf.function repeatedly in a loop, (2) passing tensors with different shapes, (3) passing Python objects instead of tensors. For (1), please define your @tf.function outside of the loop. For (2), @tf.function has reduce_retracing=True option that can avoid unnecessary retracing. For (3), please refer to https://www.tensorflow.org/guide/function#controlling_retracing and https://www.tensorflow.org/api_docs/python/tf/function for  more details.\n"
          ]
        },
        {
          "output_type": "stream",
          "name": "stdout",
          "text": [
            "Saving crack1_png.rf.2a1636fab6d73ddae19771706d29bec5.jpg to crack1_png.rf.2a1636fab6d73ddae19771706d29bec5.jpg\n",
            "1/1 [==============================] - 0s 143ms/step\n",
            "Predicted class for crack1_png.rf.2a1636fab6d73ddae19771706d29bec5.jpg : Cracking\n"
          ]
        }
      ]
    },
    {
      "cell_type": "code",
      "source": [],
      "metadata": {
        "id": "aQga5Hrh-KIz"
      },
      "execution_count": null,
      "outputs": []
    }
  ]
}