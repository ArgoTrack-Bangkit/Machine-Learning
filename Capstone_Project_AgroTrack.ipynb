{
  "cells": [
    {
      "cell_type": "markdown",
      "metadata": {
        "id": "qb-eJ7vgLuGp"
      },
      "source": [
        "#1. Import Packages"
      ]
    },
    {
      "cell_type": "code",
      "execution_count": null,
      "metadata": {
        "colab": {
          "base_uri": "https://localhost:8080/"
        },
        "id": "66u6qVcGJf83",
        "outputId": "075537d3-8e16-441b-ed3f-e4fa24840ed9"
      },
      "outputs": [
        {
          "name": "stdout",
          "output_type": "stream",
          "text": [
            "Mounted at /content/drive\n"
          ]
        }
      ],
      "source": [
        "from google.colab import drive\n",
        "drive.mount('/content/drive')"
      ]
    },
    {
      "cell_type": "code",
      "execution_count": null,
      "metadata": {
        "id": "hoV2mytjL6om"
      },
      "outputs": [],
      "source": [
        "import tensorflow as tf\n",
        "from tensorflow.keras import layers, models\n",
        "from tensorflow.keras.preprocessing.image import ImageDataGenerator\n",
        "from tensorflow.keras.callbacks import EarlyStopping\n",
        "from tensorflow.keras.models import Sequential, model_from_json\n",
        "from tensorflow.keras.callbacks import ModelCheckpoint\n",
        "from tensorflow.keras.models import load_model\n",
        "from tensorflow.keras.utils import load_img, img_to_array\n",
        "from google.colab import files\n",
        "import matplotlib.pyplot as plt\n",
        "from sklearn.metrics import confusion_matrix\n",
        "import seaborn as sns\n",
        "from tabulate import tabulate\n",
        "import os\n",
        "import numpy as np\n",
        "import pandas as pd\n",
        "import random\n",
        "import pickle"
      ]
    },
    {
      "cell_type": "markdown",
      "metadata": {
        "id": "FXd7uCWPMXGJ"
      },
      "source": [
        "#2. Load Dataset"
      ]
    },
    {
      "cell_type": "code",
      "execution_count": null,
      "metadata": {
        "id": "PKV1wU8RMiXF"
      },
      "outputs": [],
      "source": [
        "train_dir = '/content/drive/MyDrive/tomato_dataset/train'\n",
        "val_dir = '/content/drive/MyDrive/tomato_dataset/validation'"
      ]
    },
    {
      "cell_type": "markdown",
      "metadata": {
        "id": "RIEbMzjuPO5A"
      },
      "source": [
        "#3. Augmentasi and Preprocessing Data"
      ]
    },
    {
      "cell_type": "code",
      "execution_count": null,
      "metadata": {
        "colab": {
          "base_uri": "https://localhost:8080/"
        },
        "id": "gT8gVZ6r8mNp",
        "outputId": "21dae896-64b3-4d2a-f312-aa9652ed78c9"
      },
      "outputs": [
        {
          "name": "stdout",
          "output_type": "stream",
          "text": [
            "Found 1354 images belonging to 6 classes.\n",
            "Found 472 images belonging to 6 classes.\n"
          ]
        }
      ],
      "source": [
        "train_datagen = ImageDataGenerator(\n",
        "    rescale=1.0/255.0,\n",
        "    rotation_range=40,\n",
        "    width_shift_range=0.2,\n",
        "    height_shift_range=0.2,\n",
        "    shear_range=0.2,\n",
        "    zoom_range=0.2,\n",
        "    horizontal_flip=True,\n",
        "    fill_mode='nearest'\n",
        ")\n",
        "\n",
        "val_datagen = ImageDataGenerator(rescale = 1.0/255.0)\n",
        "\n",
        "train_generator = train_datagen.flow_from_directory(\n",
        "    train_dir,\n",
        "    target_size = (150, 150),\n",
        "    batch_size = 32,\n",
        "    class_mode = 'categorical',\n",
        ")\n",
        "\n",
        "val_generator = val_datagen.flow_from_directory(\n",
        "    val_dir,\n",
        "    target_size=(150, 150),\n",
        "    batch_size=32,\n",
        "    class_mode='categorical'\n",
        ")\n"
      ]
    },
    {
      "cell_type": "markdown",
      "metadata": {
        "id": "CLuhPgWDWNiv"
      },
      "source": [
        "#4. Model Building & Fitting"
      ]
    },
    {
      "cell_type": "code",
      "execution_count": null,
      "metadata": {
        "colab": {
          "base_uri": "https://localhost:8080/"
        },
        "id": "l8-08G8z03Qx",
        "outputId": "fe8a8fea-3879-4e34-9ca4-b822b7769e88"
      },
      "outputs": [
        {
          "name": "stdout",
          "output_type": "stream",
          "text": [
            "Drive already mounted at /content/drive; to attempt to forcibly remount, call drive.mount(\"/content/drive\", force_remount=True).\n",
            "Epoch 101/110\n",
            "42/42 [==============================] - 306s 7s/step - loss: 0.3313 - accuracy: 0.8835 - val_loss: 0.7563 - val_accuracy: 0.7768\n",
            "Epoch 102/110\n",
            "42/42 [==============================] - 305s 7s/step - loss: 0.2659 - accuracy: 0.9017 - val_loss: 0.6542 - val_accuracy: 0.7924\n",
            "Epoch 103/110\n",
            "42/42 [==============================] - 300s 7s/step - loss: 0.2658 - accuracy: 0.9017 - val_loss: 0.5708 - val_accuracy: 0.8170\n",
            "Epoch 104/110\n",
            "42/42 [==============================] - 306s 7s/step - loss: 0.2549 - accuracy: 0.9047 - val_loss: 0.6641 - val_accuracy: 0.8058\n",
            "Epoch 105/110\n",
            "42/42 [==============================] - 310s 7s/step - loss: 0.2830 - accuracy: 0.9024 - val_loss: 0.7198 - val_accuracy: 0.7857\n",
            "Epoch 106/110\n",
            "42/42 [==============================] - 302s 7s/step - loss: 0.2736 - accuracy: 0.8971 - val_loss: 0.5495 - val_accuracy: 0.8304\n",
            "Epoch 107/110\n",
            "42/42 [==============================] - 302s 7s/step - loss: 0.2549 - accuracy: 0.9085 - val_loss: 0.7208 - val_accuracy: 0.7969\n",
            "Epoch 108/110\n",
            "42/42 [==============================] - 288s 7s/step - loss: 0.2271 - accuracy: 0.9153 - val_loss: 0.5674 - val_accuracy: 0.8237\n",
            "Epoch 109/110\n",
            "42/42 [==============================] - 299s 7s/step - loss: 0.2661 - accuracy: 0.9039 - val_loss: 0.7084 - val_accuracy: 0.7812\n",
            "Epoch 110/110\n",
            "42/42 [==============================] - 305s 7s/step - loss: 0.2563 - accuracy: 0.9070 - val_loss: 0.5278 - val_accuracy: 0.8259\n"
          ]
        }
      ],
      "source": [
        "# Mount Google Drive\n",
        "drive.mount('/content/drive')\n",
        "\n",
        "# Define the path to save the model and training state\n",
        "checkpoint_path = \"/content/drive/My Drive/model_checkpoint_2.h5\"\n",
        "training_state_path = \"/content/drive/My Drive/training_state_2.pkl\"\n",
        "\n",
        "def create_model():\n",
        "    model = tf.keras.Sequential([\n",
        "        tf.keras.layers.Conv2D(64, (3,3), activation='relu', input_shape=(150, 150, 3)),\n",
        "        tf.keras.layers.MaxPooling2D(2, 2),\n",
        "        tf.keras.layers.Conv2D(128, (3,3), activation='relu'),\n",
        "        tf.keras.layers.MaxPooling2D(2,2),\n",
        "        tf.keras.layers.Conv2D(256, (3,3), activation='relu'),\n",
        "        tf.keras.layers.MaxPooling2D(2,2),\n",
        "        tf.keras.layers.Conv2D(512, (3,3), activation='relu'),\n",
        "        tf.keras.layers.MaxPooling2D(2,2),\n",
        "        tf.keras.layers.Conv2D(512, (3,3), activation='relu'),\n",
        "        tf.keras.layers.MaxPooling2D(2,2),\n",
        "        tf.keras.layers.Flatten(),\n",
        "        tf.keras.layers.Dropout(0.5),\n",
        "        tf.keras.layers.BatchNormalization(),\n",
        "        tf.keras.layers.Dense(1024, activation='relu'),\n",
        "        tf.keras.layers.Dense(6, activation='softmax')\n",
        "    ])\n",
        "\n",
        "    model.compile(loss='categorical_crossentropy',\n",
        "                  optimizer=tf.keras.optimizers.Adam(learning_rate=0.0001),\n",
        "                  metrics=['accuracy'])\n",
        "\n",
        "    return model\n",
        "\n",
        "# Early Stopping\n",
        "early_stopping = EarlyStopping(monitor = 'val_loss',\n",
        "                               patience = 10,\n",
        "                               restore_best_weights=True)\n",
        "\n",
        "# Check Point\n",
        "checkpoint_callback = ModelCheckpoint(\n",
        "    filepath=checkpoint_path,\n",
        "    save_weights_only=True,\n",
        "    save_best_only=False,\n",
        "    save_freq='epoch'\n",
        ")\n",
        "\n",
        "# Save Training State\n",
        "def save_training_state(epoch, optimizer):\n",
        "    optimizer_config = optimizer.get_config()\n",
        "    state = {'epoch': epoch, 'optimizer': optimizer.get_config()}\n",
        "    with open(training_state_path, 'wb') as f:\n",
        "        pickle.dump(state, f)\n",
        "\n",
        "# Callback to save training state\n",
        "class TrainingStateCallback(tf.keras.callbacks.Callback):\n",
        "    def on_epoch_end(self, epoch, logs=None):\n",
        "        save_training_state(epoch, self.model.optimizer)\n",
        "\n",
        "# Function to load training status\n",
        "def load_training_state():\n",
        "    with open(training_state_path, 'rb') as f:\n",
        "        state = pickle.load(f)\n",
        "    return state\n",
        "\n",
        "# Option to start or continue training\n",
        "resume_training = True  # Change to True if continuing training\n",
        "\n",
        "if resume_training:\n",
        "    # Load model from checkpoint\n",
        "    model = create_model()\n",
        "    model.load_weights(checkpoint_path)\n",
        "\n",
        "    # Load training status\n",
        "    state = load_training_state()\n",
        "    optimizer_config = state['optimizer']\n",
        "    model.optimizer = tf.keras.optimizers.Adam.from_config(optimizer_config)\n",
        "    initial_epoch = state['epoch'] + 1\n",
        "\n",
        "    # Continue training\n",
        "    history = model.fit(train_generator,\n",
        "                        steps_per_epoch=train_generator.samples // train_generator.batch_size,\n",
        "                        validation_data=val_generator,\n",
        "                        validation_steps=val_generator.samples // val_generator.batch_size,\n",
        "                        epochs=110,\n",
        "                        initial_epoch=initial_epoch,\n",
        "                        callbacks=[early_stopping,\n",
        "                                  checkpoint_callback,\n",
        "                                  TrainingStateCallback()])\n",
        "else:\n",
        "    # Start training from scratch\n",
        "    model = create_model()\n",
        "    history = model.fit(train_generator,\n",
        "                        steps_per_epoch=train_generator.samples // train_generator.batch_size,\n",
        "                        validation_data=val_generator,\n",
        "                        validation_steps=val_generator.samples // val_generator.batch_size,\n",
        "                        epochs=100,\n",
        "                        callbacks=[early_stopping,\n",
        "                                   checkpoint_callback,\n",
        "                                   TrainingStateCallback()])\n"
      ]
    },
    {
      "cell_type": "code",
      "execution_count": null,
      "metadata": {
        "colab": {
          "base_uri": "https://localhost:8080/"
        },
        "id": "-OqVQixTElj7",
        "outputId": "fcbe0153-23f5-4510-8961-4f49b39bbde3"
      },
      "outputs": [
        {
          "name": "stdout",
          "output_type": "stream",
          "text": [
            "Model: \"sequential_3\"\n",
            "_________________________________________________________________\n",
            " Layer (type)                Output Shape              Param #   \n",
            "=================================================================\n",
            " conv2d_15 (Conv2D)          (None, 148, 148, 64)      1792      \n",
            "                                                                 \n",
            " max_pooling2d_15 (MaxPooli  (None, 74, 74, 64)        0         \n",
            " ng2D)                                                           \n",
            "                                                                 \n",
            " conv2d_16 (Conv2D)          (None, 72, 72, 128)       73856     \n",
            "                                                                 \n",
            " max_pooling2d_16 (MaxPooli  (None, 36, 36, 128)       0         \n",
            " ng2D)                                                           \n",
            "                                                                 \n",
            " conv2d_17 (Conv2D)          (None, 34, 34, 256)       295168    \n",
            "                                                                 \n",
            " max_pooling2d_17 (MaxPooli  (None, 17, 17, 256)       0         \n",
            " ng2D)                                                           \n",
            "                                                                 \n",
            " conv2d_18 (Conv2D)          (None, 15, 15, 512)       1180160   \n",
            "                                                                 \n",
            " max_pooling2d_18 (MaxPooli  (None, 7, 7, 512)         0         \n",
            " ng2D)                                                           \n",
            "                                                                 \n",
            " conv2d_19 (Conv2D)          (None, 5, 5, 512)         2359808   \n",
            "                                                                 \n",
            " max_pooling2d_19 (MaxPooli  (None, 2, 2, 512)         0         \n",
            " ng2D)                                                           \n",
            "                                                                 \n",
            " flatten_3 (Flatten)         (None, 2048)              0         \n",
            "                                                                 \n",
            " dropout_3 (Dropout)         (None, 2048)              0         \n",
            "                                                                 \n",
            " batch_normalization_3 (Bat  (None, 2048)              8192      \n",
            " chNormalization)                                                \n",
            "                                                                 \n",
            " dense_6 (Dense)             (None, 1024)              2098176   \n",
            "                                                                 \n",
            " dense_7 (Dense)             (None, 6)                 6150      \n",
            "                                                                 \n",
            "=================================================================\n",
            "Total params: 6023302 (22.98 MB)\n",
            "Trainable params: 6019206 (22.96 MB)\n",
            "Non-trainable params: 4096 (16.00 KB)\n",
            "_________________________________________________________________\n"
          ]
        }
      ],
      "source": [
        "model.summary()"
      ]
    },
    {
      "cell_type": "markdown",
      "metadata": {
        "id": "WaGdhEPgRGtj"
      },
      "source": [
        "#6. Evaluasi Model"
      ]
    },
    {
      "cell_type": "code",
      "execution_count": null,
      "metadata": {
        "colab": {
          "base_uri": "https://localhost:8080/"
        },
        "id": "WolSKEfYu5Wk",
        "outputId": "2d486cc9-b608-4df6-e9ef-84a4fc78ae40"
      },
      "outputs": [
        {
          "name": "stdout",
          "output_type": "stream",
          "text": [
            "42/42 [==============================] - 93s 2s/step - loss: 0.1678 - accuracy: 0.9382\n",
            "Train Accuracy: 93.82%\n",
            "14/14 [==============================] - 27s 2s/step - loss: 0.5077 - accuracy: 0.8281\n",
            "Validation Accuracy: 82.81%\n"
          ]
        }
      ],
      "source": [
        "# Evaluation of accuracy on the same batch\n",
        "train_loss, train_accuracy = model.evaluate(train_generator, steps=train_generator.samples // train_generator.batch_size)\n",
        "print(f\"Train Accuracy: {train_accuracy*100:.2f}%\")\n",
        "\n",
        "val_loss, val_accuracy = model.evaluate(val_generator, steps=val_generator.samples // val_generator.batch_size)\n",
        "print(f\"Validation Accuracy: {val_accuracy*100:.2f}%\")"
      ]
    },
    {
      "cell_type": "code",
      "execution_count": null,
      "metadata": {
        "colab": {
          "base_uri": "https://localhost:8080/"
        },
        "id": "KbkJQFhO8AB0",
        "outputId": "71ce84cc-7f17-4dfc-aeea-dcd691189bc0"
      },
      "outputs": [
        {
          "name": "stdout",
          "output_type": "stream",
          "text": [
            "43/43 [==============================] - 91s 2s/step - loss: 0.1763 - accuracy: 0.9417\n",
            "Training Accuracy: 94.17%\n",
            "15/15 [==============================] - 28s 2s/step - loss: 0.5306 - accuracy: 0.8199\n",
            "Validation Accuracy: 81.99%\n"
          ]
        }
      ],
      "source": [
        "# Overall evaluation\n",
        "train_loss, train_accuracy = model.evaluate(train_generator)\n",
        "print(f\"Training Accuracy: {train_accuracy*100:.2f}%\")\n",
        "\n",
        "val_loss, val_accuracy = model.evaluate(val_generator)\n",
        "print(f\"Validation Accuracy: {val_accuracy*100:.2f}%\")"
      ]
    },
    {
      "cell_type": "markdown",
      "metadata": {
        "id": "PoawUDuGRN7S"
      },
      "source": [
        "#7. Visualization of training results"
      ]
    },
    {
      "cell_type": "code",
      "execution_count": null,
      "metadata": {
        "colab": {
          "base_uri": "https://localhost:8080/",
          "height": 624
        },
        "id": "FErvyrxCUN65",
        "outputId": "f7c2e6c4-6c8f-464f-81c8-7edab2be877a"
      },
      "outputs": [
        {
          "name": "stdout",
          "output_type": "stream",
          "text": [
            "Available keys in history.history: dict_keys(['loss', 'accuracy', 'val_loss', 'val_accuracy'])\n"
          ]
        },
        {
          "data": {
            "image/png": "[encoded data removed]",
            "text/plain": [
              "<Figure size 1200x800 with 2 Axes>"
            ]
          },
          "metadata": {},
          "output_type": "display_data"
        }
      ],
      "source": [
        "def get_metric_values(history, metric):\n",
        "    return history.history.get(metric, [])\n",
        "\n",
        "print(\"Available keys in history.history:\", history.history.keys())\n",
        "\n",
        "acc = get_metric_values(history, 'accuracy')\n",
        "val_acc = get_metric_values(history, 'val_accuracy')\n",
        "loss = get_metric_values(history, 'loss')\n",
        "val_loss = get_metric_values(history, 'val_loss')\n",
        "\n",
        "epochs_range = range(len(acc))\n",
        "\n",
        "plt.figure(figsize=(12, 8))\n",
        "\n",
        "# Plot accuracy\n",
        "plt.subplot(1, 2, 1)\n",
        "if acc and val_acc:\n",
        "    plt.plot(epochs_range, acc, label='Training Accuracy')\n",
        "    plt.plot(epochs_range, val_acc, label='Validation Accuracy')\n",
        "    plt.legend(loc='lower right')\n",
        "    plt.title('Training and Validation Accuracy')\n",
        "else:\n",
        "    plt.title('Accuracy data not available')\n",
        "\n",
        "# Plot loss\n",
        "plt.subplot(1, 2, 2)\n",
        "if loss and val_loss:\n",
        "    plt.plot(epochs_range, loss, label='Training Loss')\n",
        "    plt.plot(epochs_range, val_loss, label='Validation Loss')\n",
        "    plt.legend(loc='upper right')\n",
        "    plt.title('Training and Validation Loss')\n",
        "else:\n",
        "    plt.title('Loss data not available')\n",
        "\n",
        "plt.show()\n"
      ]
    },
    {
      "cell_type": "markdown",
      "metadata": {
        "id": "2eNX14vrRdNe"
      },
      "source": [
        "#8. Save Model"
      ]
    },
    {
      "cell_type": "code",
      "execution_count": null,
      "metadata": {
        "colab": {
          "base_uri": "https://localhost:8080/"
        },
        "id": "kyGUAn7PXkMt",
        "outputId": "21408408-c9cc-4191-912a-b9cab69b6239"
      },
      "outputs": [
        {
          "name": "stdout",
          "output_type": "stream",
          "text": [
            "Model disimpan sebagai model.h5\n",
            "Arsitektur model disimpan sebagai model_config.json\n",
            "Bobot model disimpan sebagai model_weights.h5\n",
            "Arsitektur model dimuat dari model_config.json\n",
            "Bobot model dimuat dari model_weights.h5\n",
            "Bobot model disimpan sebagai model_weights.bin\n",
            "Bobot model dimuat dari model_weights.bin\n"
          ]
        }
      ],
      "source": [
        "# Save the entire model to an HDF5 file\n",
        "model.save('model.h5')\n",
        "print(\"Model disimpan sebagai model.h5\")\n",
        "\n",
        "# Save the model architecture to a JSON file\n",
        "json_config = model.to_json()\n",
        "with open('model_config.json', 'w') as json_file:\n",
        "    json_file.write(json_config)\n",
        "print(\"Arsitektur model disimpan sebagai model_config.json\")\n",
        "\n",
        "# Save model weights to HDF5 file\n",
        "model.save_weights('model_weights.h5')\n",
        "print(\"Bobot model disimpan sebagai model_weights.h5\")\n",
        "\n",
        "# Load the model architecture from the JSON file\n",
        "with open('model_config.json', 'r') as json_file:\n",
        "    json_config = json_file.read()\n",
        "new_model = model_from_json(json_config)\n",
        "print(\"Arsitektur model dimuat dari model_config.json\")\n",
        "\n",
        "# Load model weights from HDF5 file\n",
        "new_model.load_weights('model_weights.h5')\n",
        "print(\"Bobot model dimuat dari model_weights.h5\")\n",
        "\n",
        "# Convert model weights to binary format and save as .bin file\n",
        "weights = model.get_weights()\n",
        "with open('model_weights.bin', 'wb') as bin_file:\n",
        "    for weight in weights:\n",
        "        bin_file.write(weight.tobytes())\n",
        "print(\"Bobot model disimpan sebagai model_weights.bin\")\n",
        "\n",
        "# Loads model weights from  .bin file\n",
        "def load_weights_from_bin(model, bin_path):\n",
        "    weights = model.get_weights()\n",
        "    with open(bin_path, 'rb') as bin_file:\n",
        "        for i in range(len(weights)):\n",
        "            weights[i] = np.frombuffer(bin_file.read(weights[i].nbytes), dtype=weights[i].dtype).reshape(weights[i].shape)\n",
        "    model.set_weights(weights)\n",
        "\n",
        "load_weights_from_bin(new_model, 'model_weights.bin')\n",
        "print(\"Bobot model dimuat dari model_weights.bin\")\n",
        "\n",
        "# Evaluate newly loaded models to ensure compliance\n",
        "# new_model.compile(loss='categorical_crossentropy', optimizer='adam', metrics=['accuracy'])\n",
        "# evaluation = new_model.evaluate(validation_data)\n",
        "# print(f\"Evaluation of model accuracy: {evaluation[1]}\")"
      ]
    },
    {
      "cell_type": "markdown",
      "source": [
        "#9. Conver Model to TFJS"
      ],
      "metadata": {
        "id": "yBQzTdHCC561"
      }
    },
    {
      "cell_type": "code",
      "execution_count": null,
      "metadata": {
        "id": "Qwc6HMMqcDaX"
      },
      "outputs": [],
      "source": [
        "!pip install tensorflowjs"
      ]
    },
    {
      "cell_type": "code",
      "execution_count": null,
      "metadata": {
        "id": "RvkQNkIVcFa7"
      },
      "outputs": [],
      "source": [
        "!tensorflowjs_converter --input_format=keras model.h5 model_tfjs"
      ]
    },
    {
      "cell_type": "code",
      "execution_count": null,
      "metadata": {
        "id": "640-d_XzcIa3"
      },
      "outputs": [],
      "source": [
        "import shutil\n",
        "\n",
        "shutil.make_archive('model_tfjs', 'zip', 'model_tfjs')"
      ]
    },
    {
      "cell_type": "code",
      "execution_count": null,
      "metadata": {
        "id": "4SZuGENPcMRK"
      },
      "outputs": [],
      "source": [
        "from google.colab import files\n",
        "files.download('model_tfjs.zip')"
      ]
    },
    {
      "cell_type": "markdown",
      "metadata": {
        "id": "SSofGmqxRjb7"
      },
      "source": [
        "#10. Load and use the model"
      ]
    },
    {
      "cell_type": "code",
      "execution_count": null,
      "metadata": {
        "colab": {
          "background_save": true,
          "base_uri": "https://localhost:8080/",
          "height": 56
        },
        "id": "-XV2HpIyVTLY",
        "outputId": "2781834a-2275-4b20-c6b8-1bc5e51136cd"
      },
      "outputs": [
        {
          "data": {
            "text/html": [
              "\n",
              "     <input type=\"file\" id=\"files-317154a3-03d6-44a7-949a-293062a976ee\" name=\"files[]\" multiple disabled\n",
              "        style=\"border:none\" />\n",
              "     <output id=\"result-317154a3-03d6-44a7-949a-293062a976ee\">\n",
              "      Upload widget is only available when the cell has been executed in the\n",
              "      current browser session. Please rerun this cell to enable.\n",
              "      </output>\n",
              "      <script>// Copyright 2017 Google LLC\n",
              "//\n",
              "// Licensed under the Apache License, Version 2.0 (the \"License\");\n",
              "// you may not use this file except in compliance with the License.\n",
              "// You may obtain a copy of the License at\n",
              "//\n",
              "//      http://www.apache.org/licenses/LICENSE-2.0\n",
              "//\n",
              "// Unless required by applicable law or agreed to in writing, software\n",
              "// distributed under the License is distributed on an \"AS IS\" BASIS,\n",
              "// WITHOUT WARRANTIES OR CONDITIONS OF ANY KIND, either express or implied.\n",
              "// See the License for the specific language governing permissions and\n",
              "// limitations under the License.\n",
              "\n",
              "/**\n",
              " * @fileoverview Helpers for google.colab Python module.\n",
              " */\n",
              "(function(scope) {\n",
              "function span(text, styleAttributes = {}) {\n",
              "  const element = document.createElement('span');\n",
              "  element.textContent = text;\n",
              "  for (const key of Object.keys(styleAttributes)) {\n",
              "    element.style[key] = styleAttributes[key];\n",
              "  }\n",
              "  return element;\n",
              "}\n",
              "\n",
              "// Max number of bytes which will be uploaded at a time.\n",
              "const MAX_PAYLOAD_SIZE = 100 * 1024;\n",
              "\n",
              "function _uploadFiles(inputId, outputId) {\n",
              "  const steps = uploadFilesStep(inputId, outputId);\n",
              "  const outputElement = document.getElementById(outputId);\n",
              "  // Cache steps on the outputElement to make it available for the next call\n",
              "  // to uploadFilesContinue from Python.\n",
              "  outputElement.steps = steps;\n",
              "\n",
              "  return _uploadFilesContinue(outputId);\n",
              "}\n",
              "\n",
              "// This is roughly an async generator (not supported in the browser yet),\n",
              "// where there are multiple asynchronous steps and the Python side is going\n",
              "// to poll for completion of each step.\n",
              "// This uses a Promise to block the python side on completion of each step,\n",
              "// then passes the result of the previous step as the input to the next step.\n",
              "function _uploadFilesContinue(outputId) {\n",
              "  const outputElement = document.getElementById(outputId);\n",
              "  const steps = outputElement.steps;\n",
              "\n",
              "  const next = steps.next(outputElement.lastPromiseValue);\n",
              "  return Promise.resolve(next.value.promise).then((value) => {\n",
              "    // Cache the last promise value to make it available to the next\n",
              "    // step of the generator.\n",
              "    outputElement.lastPromiseValue = value;\n",
              "    return next.value.response;\n",
              "  });\n",
              "}\n",
              "\n",
              "/**\n",
              " * Generator function which is called between each async step of the upload\n",
              " * process.\n",
              " * @param {string} inputId Element ID of the input file picker element.\n",
              " * @param {string} outputId Element ID of the output display.\n",
              " * @return {!Iterable<!Object>} Iterable of next steps.\n",
              " */\n",
              "function* uploadFilesStep(inputId, outputId) {\n",
              "  const inputElement = document.getElementById(inputId);\n",
              "  inputElement.disabled = false;\n",
              "\n",
              "  const outputElement = document.getElementById(outputId);\n",
              "  outputElement.innerHTML = '';\n",
              "\n",
              "  const pickedPromise = new Promise((resolve) => {\n",
              "    inputElement.addEventListener('change', (e) => {\n",
              "      resolve(e.target.files);\n",
              "    });\n",
              "  });\n",
              "\n",
              "  const cancel = document.createElement('button');\n",
              "  inputElement.parentElement.appendChild(cancel);\n",
              "  cancel.textContent = 'Cancel upload';\n",
              "  const cancelPromise = new Promise((resolve) => {\n",
              "    cancel.onclick = () => {\n",
              "      resolve(null);\n",
              "    };\n",
              "  });\n",
              "\n",
              "  // Wait for the user to pick the files.\n",
              "  const files = yield {\n",
              "    promise: Promise.race([pickedPromise, cancelPromise]),\n",
              "    response: {\n",
              "      action: 'starting',\n",
              "    }\n",
              "  };\n",
              "\n",
              "  cancel.remove();\n",
              "\n",
              "  // Disable the input element since further picks are not allowed.\n",
              "  inputElement.disabled = true;\n",
              "\n",
              "  if (!files) {\n",
              "    return {\n",
              "      response: {\n",
              "        action: 'complete',\n",
              "      }\n",
              "    };\n",
              "  }\n",
              "\n",
              "  for (const file of files) {\n",
              "    const li = document.createElement('li');\n",
              "    li.append(span(file.name, {fontWeight: 'bold'}));\n",
              "    li.append(span(\n",
              "        `(${file.type || 'n/a'}) - ${file.size} bytes, ` +\n",
              "        `last modified: ${\n",
              "            file.lastModifiedDate ? file.lastModifiedDate.toLocaleDateString() :\n",
              "                                    'n/a'} - `));\n",
              "    const percent = span('0% done');\n",
              "    li.appendChild(percent);\n",
              "\n",
              "    outputElement.appendChild(li);\n",
              "\n",
              "    const fileDataPromise = new Promise((resolve) => {\n",
              "      const reader = new FileReader();\n",
              "      reader.onload = (e) => {\n",
              "        resolve(e.target.result);\n",
              "      };\n",
              "      reader.readAsArrayBuffer(file);\n",
              "    });\n",
              "    // Wait for the data to be ready.\n",
              "    let fileData = yield {\n",
              "      promise: fileDataPromise,\n",
              "      response: {\n",
              "        action: 'continue',\n",
              "      }\n",
              "    };\n",
              "\n",
              "    // Use a chunked sending to avoid message size limits. See b/62115660.\n",
              "    let position = 0;\n",
              "    do {\n",
              "      const length = Math.min(fileData.byteLength - position, MAX_PAYLOAD_SIZE);\n",
              "      const chunk = new Uint8Array(fileData, position, length);\n",
              "      position += length;\n",
              "\n",
              "      const base64 = btoa(String.fromCharCode.apply(null, chunk));\n",
              "      yield {\n",
              "        response: {\n",
              "          action: 'append',\n",
              "          file: file.name,\n",
              "          data: base64,\n",
              "        },\n",
              "      };\n",
              "\n",
              "      let percentDone = fileData.byteLength === 0 ?\n",
              "          100 :\n",
              "          Math.round((position / fileData.byteLength) * 100);\n",
              "      percent.textContent = `${percentDone}% done`;\n",
              "\n",
              "    } while (position < fileData.byteLength);\n",
              "  }\n",
              "\n",
              "  // All done.\n",
              "  yield {\n",
              "    response: {\n",
              "      action: 'complete',\n",
              "    }\n",
              "  };\n",
              "}\n",
              "\n",
              "scope.google = scope.google || {};\n",
              "scope.google.colab = scope.google.colab || {};\n",
              "scope.google.colab._files = {\n",
              "  _uploadFiles,\n",
              "  _uploadFilesContinue,\n",
              "};\n",
              "})(self);\n",
              "</script> "
            ],
            "text/plain": [
              "<IPython.core.display.HTML object>"
            ]
          },
          "metadata": {},
          "output_type": "display_data"
        }
      ],
      "source": [
        "model = load_model('/content/model.h5')\n",
        "uploaded = files.upload()\n",
        "class_name = ['Blossom-end-rottation', 'Cracking', 'Healthy', 'Not-tomato', 'Spliting', 'Sun-scaled']\n",
        "\n",
        "for fn in uploaded.keys():\n",
        "\n",
        "  # predicting images\n",
        "  path = fn\n",
        "  img = load_img(path, target_size=(150, 150))\n",
        "  x = img_to_array(img)\n",
        "  x = np.expand_dims(x, axis=0)\n",
        "\n",
        "  predictions = model.predict(x)\n",
        "\n",
        "  predicted_class_index = np.argmax(predictions)\n",
        "\n",
        "  predicted_class_name = class_name[predicted_class_index]\n",
        "\n",
        "  print(\"Predicted class for\", fn, \":\", predicted_class_name)"
      ]
    }
  ],
  "metadata": {
    "colab": {
      "provenance": []
    },
    "kernelspec": {
      "display_name": "Python 3",
      "name": "python3"
    },
    "language_info": {
      "name": "python"
    }
  },
  "nbformat": 4,
  "nbformat_minor": 0
}